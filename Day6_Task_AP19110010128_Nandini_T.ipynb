{
 "cells": [
  {
   "cell_type": "markdown",
   "id": "9cf9624f",
   "metadata": {},
   "source": [
    "## Name    : Nandini ThimmireddyGari.\n",
    "## ID          : AP19110010128.\n",
    "## Branch : CSE, SRM University AP.\n",
    "\n",
    "### Day6 Task(12-06-2021)\n",
    "\n",
    "## Tasks\n",
    "1. Write a Python script to print a dictionary where the keys are numbers between 1 and 15 (both included) and the values are square of keys\n",
    "2. Write a Python program to map two lists into a dictionary\n",
    "3. Write a Python program to sort a list alphabetically in a dictionary\n",
    "     - input : {'n1': [2, 3, 1], 'n2': [5, 1, 2], 'n3': [3, 2, 4]}\n",
    "     - output : {'n1': [1, 2, 3], 'n2': [1, 2, 5], 'n3': [2, 3, 4]}"
   ]
  },
  {
   "cell_type": "markdown",
   "id": "5e3f9648",
   "metadata": {},
   "source": [
    "## Task 1\n"
   ]
  },
  {
   "cell_type": "code",
   "execution_count": 1,
   "id": "8274f326",
   "metadata": {},
   "outputs": [
    {
     "name": "stdout",
     "output_type": "stream",
     "text": [
      "{1: 1, 2: 4, 3: 9, 4: 16, 5: 25, 6: 36, 7: 49, 8: 64, 9: 81, 10: 100, 11: 121, 12: 144, 13: 169, 14: 196, 15: 225}\n"
     ]
    }
   ],
   "source": [
    "dict1={}\n",
    "for i in range(1,16):\n",
    "    dict1[i]=i**2\n",
    "print(dict1)"
   ]
  },
  {
   "cell_type": "markdown",
   "id": "e6c2f43e",
   "metadata": {},
   "source": [
    "## Task 2"
   ]
  },
  {
   "cell_type": "code",
   "execution_count": 3,
   "id": "fde16059",
   "metadata": {},
   "outputs": [
    {
     "name": "stdout",
     "output_type": "stream",
     "text": [
      "{'BTS': {'SUGA', 'JIN', 'RM', 'JK', 'JIMIN', 'J-HOPE', 'V'}, 'BLACKPINK': {'JENNIE', 'LISA', 'ROSE', 'JISOO'}, 'TXT': {'HUENING KAI', 'TEAHYUN', 'SOOBIN', 'YEOJUN', 'BEOMGYU'}, 'ASEPA': {'NINGNING', 'GISELLE', 'WINTER', 'KARINA'}}\n"
     ]
    }
   ],
   "source": [
    "list1=[\"BTS\", \"BLACKPINK\", \"TXT\", \"ASEPA\"] \n",
    "list2=[{\"RM\", \"JIN\", \"SUGA\",\"J-HOPE\", \"JIMIN\", \"V\",  \"JK\"},\n",
    "       {\"JISOO\", \"JENNIE\", \"ROSE\", \"LISA\"},\n",
    "       {\"SOOBIN\", \"YEOJUN\", \"BEOMGYU\", \"TEAHYUN\", \"HUENING KAI\"}, \n",
    "       {\"KARINA\", \"WINTER\", \"GISELLE\", \"NINGNING\"}]\n",
    "\n",
    "dict2=dict(zip(list1,list2))\n",
    "\n",
    "print(dict2)"
   ]
  },
  {
   "cell_type": "markdown",
   "id": "e9d5adc6",
   "metadata": {},
   "source": [
    "## Task 3\n"
   ]
  },
  {
   "cell_type": "code",
   "execution_count": 4,
   "id": "3cb4342f",
   "metadata": {},
   "outputs": [
    {
     "name": "stdout",
     "output_type": "stream",
     "text": [
      "{'l1': [1, 2, 5], 'l2': [2, 8, 9], 'l3': [3, 5, 6]}\n"
     ]
    }
   ],
   "source": [
    "dict3={\"l1\":[1,5,2],\"l2\":[2,9,8],\"l3\":[6,3,5]}\n",
    "\n",
    "for i in dict3.values():\n",
    "    i.sort()\n",
    "\n",
    "print(dict3)"
   ]
  }
 ],
 "metadata": {
  "kernelspec": {
   "display_name": "Python 3",
   "language": "python",
   "name": "python3"
  },
  "language_info": {
   "codemirror_mode": {
    "name": "ipython",
    "version": 3
   },
   "file_extension": ".py",
   "mimetype": "text/x-python",
   "name": "python",
   "nbconvert_exporter": "python",
   "pygments_lexer": "ipython3",
   "version": "3.8.8"
  }
 },
 "nbformat": 4,
 "nbformat_minor": 5
}
