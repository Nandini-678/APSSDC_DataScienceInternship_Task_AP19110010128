{
 "cells": [
  {
   "cell_type": "markdown",
   "id": "1a438d7f",
   "metadata": {},
   "source": [
    "## Name    : Nandini ThimmireddyGari.\n",
    "## ID          : AP19110010128.\n",
    "## Branch : CSE, SRM University AP.\n",
    "\n",
    "### Day7 Task(14-06-2021)\n",
    "\n",
    "## Tasks\n",
    "1. Program to print 4 digit numbers from list\n",
    "2. Validate a phone number using patterns"
   ]
  },
  {
   "cell_type": "markdown",
   "id": "217a333e",
   "metadata": {},
   "source": [
    "## Task 1"
   ]
  },
  {
   "cell_type": "code",
   "execution_count": 4,
   "id": "aa7c32c5",
   "metadata": {},
   "outputs": [
    {
     "name": "stdout",
     "output_type": "stream",
     "text": [
      "6723\n",
      "9103\n",
      "1123\n",
      "8999\n"
     ]
    }
   ],
   "source": [
    "import re\n",
    "\n",
    "list2=[90,123,6723,9103,19379,73894,91385,1123,8999,223,45]\n",
    "\n",
    "for i in list2:\n",
    "    if re.findall('^[0-9]{4}$', str(i)):\n",
    "        print(i)"
   ]
  },
  {
   "cell_type": "code",
   "execution_count": 6,
   "id": "6654c376",
   "metadata": {},
   "outputs": [
    {
     "name": "stdout",
     "output_type": "stream",
     "text": [
      "9010930682\n",
      "9019384737\n",
      "9087777249\n"
     ]
    }
   ],
   "source": [
    "phone_list=[9010930682,9019384737,1234567892,5678912345,9087777249,94406263256,94406263226,91919191911,984811225587,91191108701]\n",
    "\n",
    "for i in phone_list:\n",
    "    if re.findall('[6-9]{1}[0-9]{9}$',str(i)):\n",
    "        print(i)"
   ]
  }
 ],
 "metadata": {
  "kernelspec": {
   "display_name": "Python 3",
   "language": "python",
   "name": "python3"
  },
  "language_info": {
   "codemirror_mode": {
    "name": "ipython",
    "version": 3
   },
   "file_extension": ".py",
   "mimetype": "text/x-python",
   "name": "python",
   "nbconvert_exporter": "python",
   "pygments_lexer": "ipython3",
   "version": "3.8.8"
  }
 },
 "nbformat": 4,
 "nbformat_minor": 5
}
