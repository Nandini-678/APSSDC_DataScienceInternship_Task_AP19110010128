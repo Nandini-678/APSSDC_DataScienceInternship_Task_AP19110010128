{
 "cells": [
  {
   "cell_type": "markdown",
   "id": "34b9f3da",
   "metadata": {},
   "source": [
    "## Name    : Nandini ThimmireddyGari.\n",
    "## ID          : AP19110010128.\n",
    "## Branch : CSE, SRM University AP.\n",
    "\n",
    "### Day11 Task(18-06-2021)\n",
    "\n",
    "## Tasks\n",
    "1. Write a program for getting the last five line from the file.\n",
    "2. Create a function for getting armstrong number in given range\n",
    "3. Create a function for getting prime numbers within a given range"
   ]
  },
  {
   "cell_type": "markdown",
   "id": "a1015468",
   "metadata": {},
   "source": [
    "## Task 1"
   ]
  },
  {
   "cell_type": "code",
   "execution_count": 1,
   "id": "adaad24f",
   "metadata": {},
   "outputs": [],
   "source": [
    "f = open('file1.txt','w')\n",
    "f.close()"
   ]
  },
  {
   "cell_type": "code",
   "execution_count": 9,
   "id": "fcb91331",
   "metadata": {},
   "outputs": [
    {
     "name": "stdout",
     "output_type": "stream",
     "text": [
      "Blackpink\n",
      "They’re the best-charting female Korean act ever\n",
      "They have only nine songs\n",
      "Four members, four flavors \n",
      "They're a group built for the global age \n",
      "BLACKPINK is from a “Big 3” K-pop label\n",
      "There’s a sense of duality within the group\n",
      "Blink and fall in love with BLACKPINK.\n",
      "They have their own television show\n",
      "The music video for their latest single “Ddu-Du Ddu-Du” contains some social commentary\n",
      "They returned last year with their Square Up EP, and are set to bring their In Your Area tour around the world this year \n",
      "BLACKPINK is making big waves in the K-pop scene. \n",
      "They're one of this generation’s most-followed acts, with hit after hit, and the release of their single “Ddu-Du Ddu-Du” off of their Square Up EP in June led to the group making history on the Billboard charts. Now, BLACKPINK have become the first-ever K-pop girl group to appear on the cover of Billboard. \n"
     ]
    }
   ],
   "source": [
    "f = open('file1.txt', encoding=\"utf8\")\n",
    "print(f.read())\n",
    "f.close()"
   ]
  },
  {
   "cell_type": "code",
   "execution_count": 11,
   "id": "65327897",
   "metadata": {},
   "outputs": [
    {
     "name": "stdout",
     "output_type": "stream",
     "text": [
      "['They have their own television show\\n', 'The music video for their latest single “Ddu-Du Ddu-Du” contains some social commentary\\n', 'They returned last year with their Square Up EP, and are set to bring their In Your Area tour around the world this year \\n', 'BLACKPINK is making big waves in the K-pop scene. \\n', \"They're one of this generation’s most-followed acts, with hit after hit, and the release of their single “Ddu-Du Ddu-Du” off of their Square Up EP in June led to the group making history on the Billboard charts. Now, BLACKPINK have become the first-ever K-pop girl group to appear on the cover of Billboard. \"]\n"
     ]
    }
   ],
   "source": [
    "a_file = open(\"file1.txt\", encoding=\"utf8\")\n",
    "lines = a_file.readlines()\n",
    "last_lines = lines[-5:]\n",
    "print(last_lines)\n",
    "a_file. close()"
   ]
  },
  {
   "cell_type": "markdown",
   "id": "f6c0e518",
   "metadata": {},
   "source": [
    "## Task 2"
   ]
  },
  {
   "cell_type": "code",
   "execution_count": 5,
   "id": "1ed4cc1a",
   "metadata": {},
   "outputs": [
    {
     "name": "stdout",
     "output_type": "stream",
     "text": [
      "1 \n",
      "2 \n",
      "3 \n",
      "4 \n",
      "5 \n",
      "\n"
     ]
    }
   ],
   "source": [
    "f = open('file2.txt','w')\n",
    "f.write(\"1 \\n\")\n",
    "f.write(\"2 \\n\")\n",
    "f.write(\"3 \\n\")\n",
    "f.close()\n",
    "\n",
    "f = open('SYAM.txt')\n",
    "print(f.read())\n",
    "f.close()"
   ]
  },
  {
   "cell_type": "code",
   "execution_count": 6,
   "id": "1270e9b2",
   "metadata": {},
   "outputs": [
    {
     "name": "stdout",
     "output_type": "stream",
     "text": [
      "1 \n",
      "2 \n",
      "3 \n",
      "4 \n",
      "5 \n",
      "\n"
     ]
    }
   ],
   "source": [
    "# appending data\n",
    "def append():\n",
    "    f=open('file2.txt', 'a')\n",
    "    f.write(\"4 \\n\")\n",
    "    f.write(\"5 \\n\") \n",
    "    f.close()\n",
    "    \n",
    "append()\n",
    "\n",
    "f = open('file2.txt')\n",
    "print(f.read())\n",
    "f.close()"
   ]
  },
  {
   "cell_type": "markdown",
   "id": "feb9b4e7",
   "metadata": {},
   "source": [
    "## Task 3"
   ]
  },
  {
   "cell_type": "code",
   "execution_count": 3,
   "id": "e75b1b50",
   "metadata": {},
   "outputs": [
    {
     "name": "stdout",
     "output_type": "stream",
     "text": [
      "Country Currency \n",
      "India - Dollar \n",
      "\n"
     ]
    }
   ],
   "source": [
    "import re\n",
    "f = open('hello.txt','w')\n",
    "f.write(\"Country Currency \\n\")\n",
    "f.write(\"India - Dollar \\n\")\n",
    "f.close()\n",
    "\n",
    "f = open('hello.txt')\n",
    "print(f.read())"
   ]
  },
  {
   "cell_type": "code",
   "execution_count": 4,
   "id": "cb1807fa",
   "metadata": {},
   "outputs": [
    {
     "name": "stdout",
     "output_type": "stream",
     "text": [
      "Country Currency \n",
      "India - Rupee \n",
      "\n"
     ]
    }
   ],
   "source": [
    "with open('hello.txt','r+') as f:\n",
    "    text = f.read()\n",
    "    text = re.sub('Dollar', 'Rupee', text)\n",
    "    f.seek(0)\n",
    "    f.write(text)\n",
    "    f.truncate()\n",
    "    \n",
    "#reading the file\n",
    "f = open('hello.txt')\n",
    "print(f.read())"
   ]
  }
 ],
 "metadata": {
  "kernelspec": {
   "display_name": "Python 3",
   "language": "python",
   "name": "python3"
  },
  "language_info": {
   "codemirror_mode": {
    "name": "ipython",
    "version": 3
   },
   "file_extension": ".py",
   "mimetype": "text/x-python",
   "name": "python",
   "nbconvert_exporter": "python",
   "pygments_lexer": "ipython3",
   "version": "3.8.8"
  }
 },
 "nbformat": 4,
 "nbformat_minor": 5
}
