{
 "cells": [
  {
   "cell_type": "markdown",
   "id": "a998dcbd",
   "metadata": {},
   "source": [
    "## Name    : Nandini ThimmireddyGari.\n",
    "## ID          : AP19110010128.\n",
    "## Branch : CSE, SRM University AP.\n",
    "\n",
    "### Day10(17/06/2021)\n",
    "\n",
    "## Task\n",
    "* Generate 3- digit OTP from 2 different Classes. (Mail class and Phone Class)\n",
    "* Return 6 digit OTP frm BaseClasses. (SuperClasses)"
   ]
  },
  {
   "cell_type": "code",
   "execution_count": 3,
   "id": "ccbf45ab",
   "metadata": {},
   "outputs": [],
   "source": [
    "import random\n",
    "\n",
    "class Mail:\n",
    "    def __init__(self):\n",
    "        self.a = random.randint(100,999)\n",
    "class Phone:\n",
    "    def __init__(self):\n",
    "        self.b = random.randint(100,999)\n",
    "\n",
    "class OTP(Mail,Phone):\n",
    "    def __init__(self):\n",
    "        Mail.__init__(self)\n",
    "        Phone.__init__(self)\n",
    "        print(\"6-digit OTP Generated is {}{}\".format(self.a,self.b))\n",
    "    "
   ]
  },
  {
   "cell_type": "code",
   "execution_count": 4,
   "id": "79cb6205",
   "metadata": {},
   "outputs": [
    {
     "name": "stdout",
     "output_type": "stream",
     "text": [
      "6-digit OTP Generated is 368119\n"
     ]
    }
   ],
   "source": [
    "obj_otp = OTP()"
   ]
  }
 ],
 "metadata": {
  "kernelspec": {
   "display_name": "Python 3",
   "language": "python",
   "name": "python3"
  },
  "language_info": {
   "codemirror_mode": {
    "name": "ipython",
    "version": 3
   },
   "file_extension": ".py",
   "mimetype": "text/x-python",
   "name": "python",
   "nbconvert_exporter": "python",
   "pygments_lexer": "ipython3",
   "version": "3.8.8"
  }
 },
 "nbformat": 4,
 "nbformat_minor": 5
}
