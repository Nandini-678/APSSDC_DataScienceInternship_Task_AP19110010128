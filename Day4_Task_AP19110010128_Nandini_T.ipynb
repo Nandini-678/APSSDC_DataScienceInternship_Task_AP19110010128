{
 "cells": [
  {
   "cell_type": "markdown",
   "id": "bd77eafb",
   "metadata": {},
   "source": [
    "## Name    : Nandini ThimmireddyGari.\n",
    "## ID          : AP19110010128.\n",
    "## Branch : CSE, SRM University AP.\n",
    "\n",
    "### Day4 Task(10-06-2021)\n",
    "\n",
    "## Task-1\n",
    "* Take Input as String from the user.\n",
    "* Check the Length of the string.\n",
    "* If the length of the string is Odd, print the middle letter.\n",
    "* If the length of the string is Even, print the middle two letters.\n"
   ]
  },
  {
   "cell_type": "markdown",
   "id": "34bb5404",
   "metadata": {},
   "source": [
    "## Task 1"
   ]
  },
  {
   "cell_type": "code",
   "execution_count": 10,
   "id": "f8f9fb07",
   "metadata": {},
   "outputs": [
    {
     "name": "stdout",
     "output_type": "stream",
     "text": [
      "Enter Your String : Nandini\n",
      "Input string is of lenght 7\n",
      "The string is odd\n",
      "Middle letter of the String is d\n"
     ]
    }
   ],
   "source": [
    "##odd case\n",
    "input_string = str(input(\"Enter Your String : \"))\n",
    "len_str = len(input_string)\n",
    "print(\"Input string is of lenght {}\".format(len_str))\n",
    "if len_str % 2 != 0 :\n",
    "    print(\"The string is odd\")\n",
    "    print(\"Middle letter of the String is {}\".format(input_string[len_str // 2]))\n",
    "else:\n",
    "    print(\"The string is even\")\n",
    "    print(\"Middle letters of the the String are {} and {} \".format(input_string[(len_str-1) // 2],                                                     \n",
    "          input_string[(len_str) // 2 ])) "
   ]
  },
  {
   "cell_type": "code",
   "execution_count": 13,
   "id": "fc5e58eb",
   "metadata": {},
   "outputs": [
    {
     "name": "stdout",
     "output_type": "stream",
     "text": [
      "Enter Your String : Nandinii\n",
      "Input string is of lenght 8\n",
      "The string is even\n",
      "Middle letters of the the String are d and i \n"
     ]
    }
   ],
   "source": [
    "##even case\n",
    "input_string = str(input(\"Enter Your String : \"))\n",
    "len_str = len(input_string)\n",
    "print(\"Input string is of lenght {}\".format(len_str))\n",
    "if len_str % 2 != 0 :\n",
    "    print(\"The string is odd\")\n",
    "    print(\"Middle letter of the String is {}\".format(input_string[len_str // 2]))\n",
    "else:\n",
    "    print(\"The string is even\")\n",
    "    print(\"Middle letters of the the String are {} and {} \".format(input_string[(len_str-1) // 2],                                                     \n",
    "          input_string[(len_str) // 2 ])) "
   ]
  }
 ],
 "metadata": {
  "kernelspec": {
   "display_name": "Python 3",
   "language": "python",
   "name": "python3"
  },
  "language_info": {
   "codemirror_mode": {
    "name": "ipython",
    "version": 3
   },
   "file_extension": ".py",
   "mimetype": "text/x-python",
   "name": "python",
   "nbconvert_exporter": "python",
   "pygments_lexer": "ipython3",
   "version": "3.8.8"
  }
 },
 "nbformat": 4,
 "nbformat_minor": 5
}
