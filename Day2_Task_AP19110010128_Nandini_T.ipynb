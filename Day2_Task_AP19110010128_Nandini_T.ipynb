{
 "cells": [
  {
   "cell_type": "markdown",
   "id": "95064e5a",
   "metadata": {},
   "source": [
    "## Name    : Nandini ThimmireddyGari.\n",
    "## ID          : AP19110010128.\n",
    "## Branch : CSE, SRM University AP.\n",
    "\n",
    "### Day2 Task(8-06-2021)\n",
    "1.Write a program to check wheather the user eligible for vote or not\n",
    "\n",
    "2.Check the given number is positive or negative\n",
    "\n",
    "3.check the given number is even or odd if it's even check which is divisible by 4 or not\n",
    "\n",
    "4.write a program to print student grade based on persentage like Distinction,pass or fail\n",
    "\n",
    "5.Check the given year is Leap or not"
   ]
  },
  {
   "cell_type": "markdown",
   "id": "c450e78a",
   "metadata": {},
   "source": [
    "**1. Write a program to check wheather the user eligible for vote or not**"
   ]
  },
  {
   "cell_type": "code",
   "execution_count": 15,
   "id": "e2719169",
   "metadata": {},
   "outputs": [
    {
     "name": "stdout",
     "output_type": "stream",
     "text": [
      "Enter Your Age : 26\n",
      "You are eligible for vote.\n"
     ]
    }
   ],
   "source": [
    "your_age =  int(input(\"Enter Your Age : \"))\n",
    "if your_age>=18:\n",
    "    print(\"You are eligible for vote.\")\n",
    "else :\n",
    "    print(\"You are not eligible to vote.\")"
   ]
  },
  {
   "cell_type": "markdown",
   "id": "f2b52ca2",
   "metadata": {},
   "source": [
    "**2. Check the given number is positive or negative**"
   ]
  },
  {
   "cell_type": "code",
   "execution_count": 16,
   "id": "921a5d16",
   "metadata": {},
   "outputs": [
    {
     "name": "stdout",
     "output_type": "stream",
     "text": [
      "Enter Your Number-56\n",
      "-56.0 is Negative Number\n"
     ]
    }
   ],
   "source": [
    "your_no = float(input(\"Enter Your Number\"))\n",
    "if your_no>0 :\n",
    "    print(\"{} is Positive Number\".format(your_no))\n",
    "elif your_no<0 :\n",
    "    print(\"{} is Negative Number\".format(your_no))\n",
    "else :\n",
    "    print(\"Number is zero\")\n"
   ]
  },
  {
   "cell_type": "markdown",
   "id": "e7df4622",
   "metadata": {},
   "source": [
    "**3. Check the given number is even or odd if it's even check which is divisible by 4 or not**"
   ]
  },
  {
   "cell_type": "code",
   "execution_count": 17,
   "id": "6d478fb8",
   "metadata": {},
   "outputs": [
    {
     "name": "stdout",
     "output_type": "stream",
     "text": [
      "Enter any integer: 56\n",
      "The Given Number is an even number\n",
      "56 is divisible by 4\n"
     ]
    }
   ],
   "source": [
    "given_number = int(input(\"Enter any integer: \"))\n",
    "if given_number%2==0:\n",
    "    print(\"The Given Number is an even number\")\n",
    "    if given_number%4==0:\n",
    "        print(\"{} is divisible by 4\".format(given_number))\n",
    "    else:\n",
    "        print(\"{} is not divisible by 4\".format(given_number))\n",
    "else:\n",
    "    print(\"The Given Number is an odd number\")"
   ]
  },
  {
   "cell_type": "markdown",
   "id": "5330d9c3",
   "metadata": {},
   "source": [
    "**4. Write a program to print student grade based on persentage like Distinction,pass or fail**"
   ]
  },
  {
   "cell_type": "code",
   "execution_count": 18,
   "id": "4e91a97c",
   "metadata": {},
   "outputs": [
    {
     "name": "stdout",
     "output_type": "stream",
     "text": [
      "Enter sub1 Marks out of 100: 100\n",
      "Enter sub2 Marks out of 100: 68\n",
      "Enter sub3 Marks out of 100: 98\n",
      "Enter sub4 Marks out of 100: 48\n",
      "Enter sub5 Marks out of 100: 100\n",
      "The percentage of marks is 82.8\n",
      "The student got distinction\n"
     ]
    }
   ],
   "source": [
    "sub1 = float(input(\"Enter sub1 Marks out of 100: \"))\n",
    "sub2  = float(input(\"Enter sub2 Marks out of 100: \"))\n",
    "sub3 = float(input(\"Enter sub3 Marks out of 100: \"))\n",
    "sub4 = float(input(\"Enter sub4 Marks out of 100: \"))\n",
    "sub5 = float(input(\"Enter sub5 Marks out of 100: \"))\n",
    "total = sub1 + sub2 + sub3 + sub4 + sub5\n",
    "percentage = (total / 500) * 100\n",
    "print(\"The percentage of marks is {}\".format(round(percentage, 2)))\n",
    "if percentage>=80:\n",
    "    print(\"The student got distinction\")\n",
    "elif percentage>=50:\n",
    "    print(\"The student got passed in examinations\")\n",
    "else:\n",
    "    print(\"The student got failed in examinations\")"
   ]
  },
  {
   "cell_type": "markdown",
   "id": "22444e6b",
   "metadata": {},
   "source": [
    "**5. Check the given year is Leap or not**"
   ]
  },
  {
   "cell_type": "code",
   "execution_count": 14,
   "id": "e776babb",
   "metadata": {},
   "outputs": [
    {
     "name": "stdout",
     "output_type": "stream",
     "text": [
      "Enter Year: 2030\n",
      "2030 is not a Leap Year\n"
     ]
    }
   ],
   "source": [
    "Year = int(input(\"Enter Year: \"))\n",
    "if Year % 4 == 0 and Year % 100 != 0:\n",
    "    print(\"{} is a Leap Year\".format(Year))\n",
    "elif Year % 100 == 0:\n",
    "    print(\"{} is not a Leap Year\".format(Year))\n",
    "elif Year % 400 ==0:\n",
    "    print(Year, \"is a Leap Year\")\n",
    "else:\n",
    "    print(Year, \"is not a Leap Year\")"
   ]
  },
  {
   "cell_type": "code",
   "execution_count": null,
   "id": "eed0da8d",
   "metadata": {},
   "outputs": [],
   "source": []
  }
 ],
 "metadata": {
  "kernelspec": {
   "display_name": "Python 3",
   "language": "python",
   "name": "python3"
  },
  "language_info": {
   "codemirror_mode": {
    "name": "ipython",
    "version": 3
   },
   "file_extension": ".py",
   "mimetype": "text/x-python",
   "name": "python",
   "nbconvert_exporter": "python",
   "pygments_lexer": "ipython3",
   "version": "3.8.8"
  }
 },
 "nbformat": 4,
 "nbformat_minor": 5
}
