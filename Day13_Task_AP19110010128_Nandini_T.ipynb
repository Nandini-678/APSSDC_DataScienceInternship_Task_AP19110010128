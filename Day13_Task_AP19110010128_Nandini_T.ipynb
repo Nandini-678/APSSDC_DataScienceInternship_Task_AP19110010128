{
 "cells": [
  {
   "cell_type": "markdown",
   "id": "2c6e453b",
   "metadata": {},
   "source": [
    "## Name    : Nandini ThimmireddyGari.\n",
    "## ID          : AP19110010128.\n",
    "## Branch : CSE, SRM University AP.\n",
    "\n",
    "### Day13 Task(21-06-2021)\n",
    "\n",
    "## Task\n",
    "* Create arrays with different numpy data types.\n",
    "**Numpy has 11 Datatypes and the characters used to represent them are:*\n",
    "\n",
    "1. integer - i\n",
    "2. boolean - b\n",
    "3. unsigned integer - u\n",
    "4. float - f\n",
    "5. complex float - c\n",
    "6. timedelta - m\n",
    "7. datatime - M\n",
    "8. object - O\n",
    "9. string - S\n",
    "10. unicode string - U\n",
    "11. fixed chunk of memory for other type (void) - V"
   ]
  },
  {
   "cell_type": "code",
   "execution_count": 3,
   "id": "33a2854e",
   "metadata": {},
   "outputs": [],
   "source": [
    "import numpy as np"
   ]
  },
  {
   "cell_type": "markdown",
   "id": "e857fdaa",
   "metadata": {},
   "source": [
    "###  1. Integer type"
   ]
  },
  {
   "cell_type": "code",
   "execution_count": 4,
   "id": "289f15a8",
   "metadata": {},
   "outputs": [
    {
     "name": "stdout",
     "output_type": "stream",
     "text": [
      "[1 2 3 4]\n",
      "int32\n"
     ]
    }
   ],
   "source": [
    "arr = np.array([1, 2, 3, 4], dtype='i')\n",
    "\n",
    "print(arr)\n",
    "print(arr.dtype)"
   ]
  },
  {
   "cell_type": "markdown",
   "id": "666dd84d",
   "metadata": {},
   "source": [
    "### 2. Boolean type"
   ]
  },
  {
   "cell_type": "code",
   "execution_count": 12,
   "id": "59a4cb5f",
   "metadata": {},
   "outputs": [
    {
     "name": "stdout",
     "output_type": "stream",
     "text": [
      "[ True  True  True  True]\n",
      "bool\n"
     ]
    }
   ],
   "source": [
    "arr = np.array([1, 2, 3, 4], dtype='bool')\n",
    "\n",
    "print(arr)\n",
    "print(arr.dtype)"
   ]
  },
  {
   "cell_type": "markdown",
   "id": "2c8b3e1f",
   "metadata": {},
   "source": [
    "### 3. Unsigned Integer type"
   ]
  },
  {
   "cell_type": "code",
   "execution_count": 14,
   "id": "128756a2",
   "metadata": {},
   "outputs": [
    {
     "name": "stdout",
     "output_type": "stream",
     "text": [
      "[1 2 3 4]\n",
      "uint32\n"
     ]
    }
   ],
   "source": [
    "arr = np.array([1, 2, 3, 4], dtype=np.uintc)\n",
    "\n",
    "print(arr)\n",
    "print(arr.dtype)"
   ]
  },
  {
   "cell_type": "markdown",
   "id": "0740e25e",
   "metadata": {},
   "source": [
    "### 4. Float type"
   ]
  },
  {
   "cell_type": "code",
   "execution_count": 7,
   "id": "6de313cd",
   "metadata": {},
   "outputs": [
    {
     "name": "stdout",
     "output_type": "stream",
     "text": [
      "[1. 2. 3. 4.]\n",
      "float32\n"
     ]
    }
   ],
   "source": [
    "arr = np.array([1, 2, 3, 4], dtype='f')\n",
    "\n",
    "print(arr)\n",
    "print(arr.dtype)"
   ]
  },
  {
   "cell_type": "markdown",
   "id": "daacf1bf",
   "metadata": {},
   "source": [
    "### 5. Complex float type"
   ]
  },
  {
   "cell_type": "code",
   "execution_count": 15,
   "id": "afa61ebf",
   "metadata": {},
   "outputs": [
    {
     "name": "stdout",
     "output_type": "stream",
     "text": [
      "[1.+0.j 2.+0.j 3.+0.j 4.+0.j]\n",
      "complex64\n"
     ]
    }
   ],
   "source": [
    "arr = np.array([1, 2, 3, 4], dtype=np.csingle)\n",
    "\n",
    "print(arr)\n",
    "print(arr.dtype)"
   ]
  },
  {
   "cell_type": "markdown",
   "id": "ae1be11c",
   "metadata": {},
   "source": [
    "### 6. Timedelta type"
   ]
  },
  {
   "cell_type": "code",
   "execution_count": 5,
   "id": "bfb218b4",
   "metadata": {},
   "outputs": [
    {
     "name": "stdout",
     "output_type": "stream",
     "text": [
      "3 days\n"
     ]
    },
    {
     "data": {
      "text/plain": [
       "dtype('<m8[D]')"
      ]
     },
     "execution_count": 5,
     "metadata": {},
     "output_type": "execute_result"
    }
   ],
   "source": [
    "a=np.timedelta64(3,'D')\n",
    "print(a)\n",
    "a.dtype"
   ]
  },
  {
   "cell_type": "markdown",
   "id": "3b32a407",
   "metadata": {},
   "source": [
    "### 7. Date Time type"
   ]
  },
  {
   "cell_type": "code",
   "execution_count": 18,
   "id": "f5f20420",
   "metadata": {},
   "outputs": [
    {
     "name": "stdout",
     "output_type": "stream",
     "text": [
      "['2005-02-25' '2005-02-22' '2006-03-25']\n",
      "datetime64[D]\n"
     ]
    }
   ],
   "source": [
    "arr=np.array(['2005-02-25','2005-02-22','2006-03-25'],dtype='M')\n",
    "print(arr)\n",
    "print(arr.dtype)"
   ]
  },
  {
   "cell_type": "markdown",
   "id": "cc72d59b",
   "metadata": {},
   "source": [
    "### 8. Object type"
   ]
  },
  {
   "cell_type": "code",
   "execution_count": 11,
   "id": "d6c3179a",
   "metadata": {},
   "outputs": [
    {
     "name": "stdout",
     "output_type": "stream",
     "text": [
      "[1 2 3 4]\n",
      "object\n"
     ]
    }
   ],
   "source": [
    "arr = np.array([1, 2, 3, 4], dtype='O')\n",
    "\n",
    "print(arr)\n",
    "print(arr.dtype)"
   ]
  },
  {
   "cell_type": "markdown",
   "id": "9ddb35cf",
   "metadata": {},
   "source": [
    "### 9. String type"
   ]
  },
  {
   "cell_type": "code",
   "execution_count": 19,
   "id": "f70ee6d6",
   "metadata": {},
   "outputs": [
    {
     "name": "stdout",
     "output_type": "stream",
     "text": [
      "[b'Nandini' b'CSE' b'Data Science']\n",
      "|S12\n"
     ]
    }
   ],
   "source": [
    "arr = np.array([\"Nandini\", \"CSE\", \"Data Science\"], dtype='S')\n",
    "\n",
    "print(arr)\n",
    "print(arr.dtype)"
   ]
  },
  {
   "cell_type": "markdown",
   "id": "83d5b6da",
   "metadata": {},
   "source": [
    "### 10. Unicode String type"
   ]
  },
  {
   "cell_type": "code",
   "execution_count": 6,
   "id": "21ca79ab",
   "metadata": {},
   "outputs": [
    {
     "name": "stdout",
     "output_type": "stream",
     "text": [
      "['Δ' 'µZ' 'µF' '∂r']\n",
      "<U2\n"
     ]
    }
   ],
   "source": [
    "a=np.array([u'\\u0394', u'\\265Z', u'\\265F', u'\\u2202r'])\n",
    "print(a)\n",
    "print(a.dtype)"
   ]
  },
  {
   "cell_type": "markdown",
   "id": "2fc5a931",
   "metadata": {},
   "source": [
    "### 11. Void"
   ]
  },
  {
   "cell_type": "code",
   "execution_count": 7,
   "id": "43c624ec",
   "metadata": {},
   "outputs": [
    {
     "name": "stdout",
     "output_type": "stream",
     "text": [
      "[]\n",
      "|V8\n"
     ]
    }
   ],
   "source": [
    "a=np.array([],dtype='V')\n",
    "print(a)\n",
    "print(a.dtype)"
   ]
  }
 ],
 "metadata": {
  "kernelspec": {
   "display_name": "Python 3",
   "language": "python",
   "name": "python3"
  },
  "language_info": {
   "codemirror_mode": {
    "name": "ipython",
    "version": 3
   },
   "file_extension": ".py",
   "mimetype": "text/x-python",
   "name": "python",
   "nbconvert_exporter": "python",
   "pygments_lexer": "ipython3",
   "version": "3.8.8"
  }
 },
 "nbformat": 4,
 "nbformat_minor": 5
}
